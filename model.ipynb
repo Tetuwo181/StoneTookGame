{
 "cells": [
  {
   "cell_type": "code",
   "execution_count": null,
   "metadata": {},
   "outputs": [],
   "source": [
    "# -*- coding: utf-8 -*-\n",
    "import keras\n",
    "from keras.optimizers import SGD, Adam\n",
    "from keras.initializers import RandomNormal, RandomUniform\n",
    "from keras.models import Sequential, Model\n",
    "from keras.layers import Dense, Dropout, Activation\n",
    "from keras.layers import Concatenate, InputLayer, Input\n",
    "from keras.layers import LSTM\n",
    "from keras.models import load_model\n",
    "import numpy as np\n",
    "import pandas as pd\n",
    "from module.recorder import data_loader as DL\n",
    "from module.player import strategylearner as SL\n",
    "import json"
   ]
  },
  {
   "cell_type": "code",
   "execution_count": null,
   "metadata": {},
   "outputs": [],
   "source": [
    "dataset_path = \"data//tessdata.csv\"\n",
    "df = DL.load_nim_log(dataset_path)"
   ]
  },
  {
   "cell_type": "code",
   "execution_count": null,
   "metadata": {},
   "outputs": [],
   "source": [
    "took_molder = SL.data_molder.data_molder(df.get_max[0])\n",
    "mod_molder = SL.data_molder.data_molder(df.get_max[0])"
   ]
  },
  {
   "cell_type": "code",
   "execution_count": null,
   "metadata": {},
   "outputs": [],
   "source": [
    "#データフレームにデータを成形\n",
    "df[\"winner_mod\"] = [remain_winner%df.get_max[0] for remain_winner in df.remain_winner]\n",
    "df[\"winner_converted\"] = [took_molder(win) for win in df.win]\n",
    "df[\"winner_mod_converted\"] = [mod_molder(win+1) for win in df.winner_mod]\n",
    "df[\"loser_mod\"] = [remain_loser%df.get_max[0] for remain_loser in df.remain_loser]\n",
    "df[\"loser_converted\"] = [took_molder(lose) for lose in df.lose]\n",
    "df[\"loser_mod_converted\"] = [mod_molder(lose+1) for lose in df.loser_mod]"
   ]
  },
  {
   "cell_type": "code",
   "execution_count": null,
   "metadata": {},
   "outputs": [],
   "source": [
    "#インプットするデータ作成\n",
    "#[直前に相手がとった石の数],[直前に自分がとった石の数],[石の総数からとれる最大値で割ったあまり]\n",
    "#今回使うデータが先手で勝ったものなので\n",
    "data_loser = np.array([[0,0,0,0,0]]+[data for data in df.loser_converted[:-1]], dtype=float)\n",
    "data_winner = np.array([[0,0,0,0,0]]+[data for data in df.winner_converted[:-1]], dtype=float)\n",
    "data_winner_mod = np.array([data for data in df.winner_mod_converted[:]], dtype=float)"
   ]
  },
  {
   "cell_type": "code",
   "execution_count": null,
   "metadata": {},
   "outputs": [],
   "source": [
    "#教師データ\n",
    "labels = np.array([value for value in df.winner_converted], dtype=float)"
   ]
  },
  {
   "cell_type": "code",
   "execution_count": null,
   "metadata": {},
   "outputs": [],
   "source": [
    "input_pre_took_myself = Input(shape=(df.get_max[0],))\n",
    "input_pre_took_enemy = Input(shape=(df.get_max[0],))\n",
    "input_pre_mod  = Input(shape=(df.get_max[0],))\n",
    "merged_input = keras.layers.concatenate([input_pre_took_myself, input_pre_took_enemy], axis=-1)\n",
    "pre_mid = Dense(df.get_max[0]*3*5, activation = \"relu\")(merged_input)\n",
    "output = Dense(df.get_max[0], activation = \"softmax\")(pre_mid)\n",
    "model = Model([input_pre_took_myself, input_pre_took_enemy, input_pre_mod], outputs = output)\n",
    "model.compile(optimizer = \"adam\", loss=\"categorical_crossentropy\", metrics = [\"accuracy\"])"
   ]
  },
  {
   "cell_type": "code",
   "execution_count": null,
   "metadata": {},
   "outputs": [],
   "source": [
    "model.fit([data_loser, data_winner, data_winner_mod], labels, epochs=10)"
   ]
  },
  {
   "cell_type": "code",
   "execution_count": null,
   "metadata": {},
   "outputs": [],
   "source": [
    "model.save(\"model2.h5\")"
   ]
  }
 ],
 "metadata": {
  "kernelspec": {
   "display_name": "Python 3",
   "language": "python",
   "name": "python3"
  },
  "language_info": {
   "codemirror_mode": {
    "name": "ipython",
    "version": 3
   },
   "file_extension": ".py",
   "mimetype": "text/x-python",
   "name": "python",
   "nbconvert_exporter": "python",
   "pygments_lexer": "ipython3",
   "version": "3.5.5"
  }
 },
 "nbformat": 4,
 "nbformat_minor": 2
}
